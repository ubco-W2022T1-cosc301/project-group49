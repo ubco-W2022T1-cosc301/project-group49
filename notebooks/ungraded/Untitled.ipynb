{
 "cells": [
  {
   "cell_type": "code",
   "execution_count": null,
   "id": "2113cf5e-884e-4aaf-8671-8b87b8640e0c",
   "metadata": {},
   "outputs": [
    {
     "ename": "NameError",
     "evalue": "name 'raw2' is not defined",
     "output_type": "error",
     "traceback": [
      "\u001b[1;31m---------------------------------------------------------------------------\u001b[0m",
      "\u001b[1;31mNameError\u001b[0m                                 Traceback (most recent call last)",
      "Cell \u001b[1;32mIn [2], line 6\u001b[0m\n\u001b[0;32m      1\u001b[0m DeleteList\u001b[38;5;241m=\u001b[39m[\u001b[38;5;124m\"\u001b[39m\u001b[38;5;124mDatetime\u001b[39m\u001b[38;5;124m\"\u001b[39m,\u001b[38;5;124m\"\u001b[39m\u001b[38;5;124mStage\u001b[39m\u001b[38;5;124m\"\u001b[39m,\u001b[38;5;124m\"\u001b[39m\u001b[38;5;124mCity\u001b[39m\u001b[38;5;124m\"\u001b[39m,\u001b[38;5;124m\"\u001b[39m\u001b[38;5;124mStadium\u001b[39m\u001b[38;5;124m\"\u001b[39m,\u001b[38;5;124m\"\u001b[39m\u001b[38;5;124mAttendance\u001b[39m\u001b[38;5;124m\"\u001b[39m,\u001b[38;5;124m\"\u001b[39m\u001b[38;5;124mRoundID\u001b[39m\u001b[38;5;124m\"\u001b[39m,\n\u001b[0;32m      2\u001b[0m             \u001b[38;5;124m\"\u001b[39m\u001b[38;5;124mMatchID\u001b[39m\u001b[38;5;124m\"\u001b[39m,\u001b[38;5;124m\"\u001b[39m\u001b[38;5;124mHome Team Initials\u001b[39m\u001b[38;5;124m\"\u001b[39m,\u001b[38;5;124m\"\u001b[39m\u001b[38;5;124mAway Team Initials\u001b[39m\u001b[38;5;124m\"\u001b[39m,\u001b[38;5;124m\"\u001b[39m\u001b[38;5;124mWin conditions\u001b[39m\u001b[38;5;124m\"\u001b[39m,\n\u001b[0;32m      3\u001b[0m             \u001b[38;5;124m\"\u001b[39m\u001b[38;5;124mHalf-time Home Goals\u001b[39m\u001b[38;5;124m\"\u001b[39m,\u001b[38;5;124m\"\u001b[39m\u001b[38;5;124mHalf-time Away Goals\u001b[39m\u001b[38;5;124m\"\u001b[39m,\u001b[38;5;124m\"\u001b[39m\u001b[38;5;124mAssistant 1\u001b[39m\u001b[38;5;124m\"\u001b[39m,\u001b[38;5;124m\"\u001b[39m\u001b[38;5;124mAssistant 2\u001b[39m\u001b[38;5;124m\"\u001b[39m,\u001b[38;5;124m\"\u001b[39m\u001b[38;5;124mReferee\u001b[39m\u001b[38;5;124m\"\u001b[39m]\n\u001b[0;32m      5\u001b[0m df2\u001b[38;5;241m=\u001b[39m(\n\u001b[1;32m----> 6\u001b[0m     \u001b[43mraw2\u001b[49m\u001b[38;5;241m.\u001b[39mdrop(DeleteList, axis\u001b[38;5;241m=\u001b[39m\u001b[38;5;241m1\u001b[39m)\u001b[38;5;241m.\u001b[39mdropna()\u001b[38;5;241m.\u001b[39mastype({\u001b[38;5;124m'\u001b[39m\u001b[38;5;124mYear\u001b[39m\u001b[38;5;124m'\u001b[39m: \u001b[38;5;124m'\u001b[39m\u001b[38;5;124mint64\u001b[39m\u001b[38;5;124m'\u001b[39m})\n\u001b[0;32m      7\u001b[0m     \n\u001b[0;32m      8\u001b[0m )\n\u001b[0;32m     10\u001b[0m df2\u001b[38;5;241m=\u001b[39m(df2[df2[\u001b[38;5;124m'\u001b[39m\u001b[38;5;124mYear\u001b[39m\u001b[38;5;124m'\u001b[39m]\n\u001b[0;32m     11\u001b[0m          \u001b[38;5;241m.\u001b[39misin(df[\u001b[38;5;124m'\u001b[39m\u001b[38;5;124mYear\u001b[39m\u001b[38;5;124m'\u001b[39m])]\n\u001b[0;32m     12\u001b[0m      \u001b[38;5;241m.\u001b[39mreset_index()\u001b[38;5;241m.\u001b[39mdrop(\u001b[38;5;124m\"\u001b[39m\u001b[38;5;124mindex\u001b[39m\u001b[38;5;124m\"\u001b[39m, axis\u001b[38;5;241m=\u001b[39m\u001b[38;5;241m1\u001b[39m)\n\u001b[0;32m     13\u001b[0m     )\n\u001b[0;32m     15\u001b[0m df2\u001b[38;5;241m.\u001b[39mto_csv(\u001b[38;5;124m'\u001b[39m\u001b[38;5;124mCleanedWorldCupsMatches(Analysis2)-df2.csv\u001b[39m\u001b[38;5;124m'\u001b[39m,index\u001b[38;5;241m=\u001b[39m\u001b[38;5;28;01mFalse\u001b[39;00m)\n",
      "\u001b[1;31mNameError\u001b[0m: name 'raw2' is not defined"
     ]
    }
   ],
   "source": [
    "DeleteList=[\"Datetime\",\"Stage\",\"City\",\"Stadium\",\"Attendance\",\"RoundID\",\n",
    "            \"MatchID\",\"Home Team Initials\",\"Away Team Initials\",\"Win conditions\",\n",
    "            \"Half-time Home Goals\",\"Half-time Away Goals\",\"Assistant 1\",\"Assistant 2\",\"Referee\"]\n",
    "\n",
    "df2=(\n",
    "    raw2.drop(DeleteList, axis=1).dropna().astype({'Year': 'int64'})\n",
    "    \n",
    ")\n",
    "\n",
    "df2=(df2[df2['Year']\n",
    "         .isin(df['Year'])]\n",
    "     .reset_index().drop(\"index\", axis=1)\n",
    "    )\n",
    "\n",
    "df2.to_csv('CleanedWorldCupsMatches(Analysis2)-df2.csv',index=False)\n",
    "print(df2)\n",
    "\n",
    "#Home Team\n",
    "df2a=df2[['Year','Home Team Name','Home Team Goals']].copy()\n",
    "df2a=df2a[df2['Home Team Name'].isin(df['Winner'])].reset_index().drop(\"index\", axis=1)\n",
    "df2a=p2.pd.merge(left=df, right=df2a, left_on=[\"Year\", \"Winner\"], right_on=[\"Year\", \"Home Team Name\"]).drop(\n",
    "    \"Winner\",axis=1).rename(columns={\"Home Team Name\":\"Team Name\",\"Home Team Goals\":\"Team Goals\"})\n",
    "print(df2a)\n",
    "\n",
    "#Away Team\n",
    "df2b=df2[['Year','Away Team Name','Away Team Goals']].copy()\n",
    "df2b=df2b[df2['Away Team Name'].isin(df['Winner'])].reset_index().drop(\"index\", axis=1)\n",
    "df2b=p2.pd.merge(left=df, right=df2b, left_on=[\"Year\", \"Winner\"], right_on=[\"Year\", \"Away Team Name\"]).drop(\n",
    "    \"Winner\",axis=1).rename(columns={\"Away Team Name\":\"Team Name\",\"Away Team Goals\":\"Team Goals\"})\n",
    "print(df2b)\n",
    "\n",
    "#Merging\n",
    "df2Merge=p2.pd.concat([df2a, df2b])\n",
    "df2Merge.to_csv('CleanedWorldCupsMatchesWinnerOnly(Analysis2)-df2Merge.csv',index=False)\n",
    "df2Merge"
   ]
  },
  {
   "cell_type": "code",
   "execution_count": null,
   "id": "9949eec7-dbe2-498c-8d85-ed62524ab5bd",
   "metadata": {},
   "outputs": [],
   "source": []
  }
 ],
 "metadata": {
  "kernelspec": {
   "display_name": "Python 3 (ipykernel)",
   "language": "python",
   "name": "python3"
  }
 },
 "nbformat": 4,
 "nbformat_minor": 5
}
