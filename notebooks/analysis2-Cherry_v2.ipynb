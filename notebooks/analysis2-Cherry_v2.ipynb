{
 "cells": [
  {
   "cell_type": "markdown",
   "metadata": {},
   "source": [
    "# Cherry Ho\n",
    "Note to self: Remember EDA"
   ]
  },
  {
   "cell_type": "markdown",
   "metadata": {},
   "source": [
    "## Research question/interests\n",
    "\n",
    "Which country has the most golds when they are away teams?\n",
    "\n",
    "Note to self: Be aware of the difference between Germany and Germany FR"
   ]
  },
  {
   "cell_type": "code",
   "execution_count": null,
   "metadata": {},
   "outputs": [],
   "source": [
    "#Import Libraries\n",
    "import numpy as np\n",
    "import pandas as pd\n",
    "import matplotlib\n",
    "import matplotlib.pyplot as plt\n",
    "import matplotlib.pylab as plt\n",
    "import seaborn as sns\n",
    "import missingno"
   ]
  },
  {
   "cell_type": "markdown",
   "metadata": {},
   "source": [
    "# Load Dataframe"
   ]
  },
  {
   "cell_type": "code",
   "execution_count": null,
   "metadata": {},
   "outputs": [],
   "source": [
    "def load_and_process(url_or_path_to_csv_file):\n",
    "\n",
    "    # Method Chain 1 (Load data)\n",
    "\n",
    "    df1 = pd.read_csv(url_or_path_to_csv_file)\n",
    "    print(df1)\n",
    "\n",
    "    # Method Chain 2 (Drop unneccessary columns like the # of Goals Scored,\n",
    "    #Check if the winners are a home team and delete them (to make sure that every winner counted is a visiting team);\n",
    "    #Turn \"Germany FR\" to \"Germany\" to simplify the process (Sorry for historians striving for accuracy, but my sleep is more important);\n",
    "    #Delete the Hosting Countries to get a list of winners since it isn't important for our analysis))\n",
    "    \n",
    "    \n",
    "    #Preparing the lists and functions needed\n",
    "    DeleteList=['Year','Runners-Up','Third','Fourth','GoalsScored','QualifiedTeams','MatchesPlayed','Attendance']\n",
    "    \n",
    "    def func(row):\n",
    "        if row['Country'] in row['Winner']:\n",
    "            val = False\n",
    "        else:\n",
    "            val = True\n",
    "        return val\n",
    "        \n",
    "    df2=df1.drop(\n",
    "        DeleteList, axis=1\n",
    "    ).assign(\n",
    "        #AwayTeam = df.apply(func, axis=1)\n",
    "        AwayTeam = df.apply(func, axis=1)\n",
    "    )\n",
    "    print(df2)\n",
    "    \n",
    "    df3 = df2.drop(\n",
    "        df[df[\"AwayTeam\"] == False].index\n",
    "    ).drop([\"AwayTeam\",\"Country\"], axis=1\n",
    "          ).reset_index(\n",
    "    ).drop(\"index\", axis=1\n",
    "          )\n",
    "    \n",
    "    df3.loc[df['Winner'] == \"Germany FR\", 'Winner'] = \"Germany\"\n",
    "\n",
    "    # Make sure to return the latest dataframe\n",
    "\n",
    "    return df3"
   ]
  },
  {
   "cell_type": "code",
   "execution_count": null,
   "metadata": {},
   "outputs": [
    {
     "name": "stdout",
     "output_type": "stream",
     "text": [
      "    Year       Country      Winner      Runners-Up        Third  \\\n",
      "0   1930       Uruguay     Uruguay       Argentina          USA   \n",
      "1   1934         Italy       Italy  Czechoslovakia      Germany   \n",
      "2   1938        France       Italy         Hungary       Brazil   \n",
      "3   1950        Brazil     Uruguay          Brazil       Sweden   \n",
      "4   1954   Switzerland  Germany FR         Hungary      Austria   \n",
      "5   1958        Sweden      Brazil          Sweden       France   \n",
      "6   1962         Chile      Brazil  Czechoslovakia        Chile   \n",
      "7   1966       England     England      Germany FR     Portugal   \n",
      "8   1970        Mexico      Brazil           Italy   Germany FR   \n",
      "9   1974       Germany  Germany FR     Netherlands       Poland   \n",
      "10  1978     Argentina   Argentina     Netherlands       Brazil   \n",
      "11  1982         Spain       Italy      Germany FR       Poland   \n",
      "12  1986        Mexico   Argentina      Germany FR       France   \n",
      "13  1990         Italy  Germany FR       Argentina        Italy   \n",
      "14  1994           USA      Brazil           Italy       Sweden   \n",
      "15  1998        France      France          Brazil      Croatia   \n",
      "16  2002   Korea/Japan      Brazil         Germany       Turkey   \n",
      "17  2006       Germany       Italy          France      Germany   \n",
      "18  2010  South Africa       Spain     Netherlands      Germany   \n",
      "19  2014        Brazil     Germany       Argentina  Netherlands   \n",
      "\n",
      "            Fourth  GoalsScored  QualifiedTeams  MatchesPlayed Attendance  \n",
      "0       Yugoslavia           70              13             18    590.549  \n",
      "1          Austria           70              16             17        363  \n",
      "2           Sweden           84              15             18      375.7  \n",
      "3            Spain           88              13             22  1.045.246  \n",
      "4          Uruguay          140              16             26    768.607  \n",
      "5       Germany FR          126              16             35     819.81  \n",
      "6       Yugoslavia           89              16             32    893.172  \n",
      "7     Soviet Union           89              16             32  1.563.135  \n",
      "8          Uruguay           95              16             32  1.603.975  \n",
      "9           Brazil           97              16             38  1.865.753  \n",
      "10           Italy          102              16             38  1.545.791  \n",
      "11          France          146              24             52  2.109.723  \n",
      "12         Belgium          132              24             52  2.394.031  \n",
      "13         England          115              24             52  2.516.215  \n",
      "14        Bulgaria          141              24             52  3.587.538  \n",
      "15     Netherlands          171              32             64  2.785.100  \n",
      "16  Korea Republic          161              32             64  2.705.197  \n",
      "17        Portugal          147              32             64  3.359.439  \n",
      "18         Uruguay          145              32             64  3.178.856  \n",
      "19          Brazil          171              32             64  3.386.810  \n",
      "         Country      Winner AwayTeam\n",
      "0        Uruguay     Uruguay    False\n",
      "1          Italy       Italy    False\n",
      "2         France       Italy     True\n",
      "3         Brazil     Uruguay      NaN\n",
      "4    Switzerland  Germany FR      NaN\n",
      "5         Sweden      Brazil      NaN\n",
      "6          Chile      Brazil      NaN\n",
      "7        England     England      NaN\n",
      "8         Mexico      Brazil      NaN\n",
      "9        Germany  Germany FR      NaN\n",
      "10     Argentina   Argentina      NaN\n",
      "11         Spain       Italy      NaN\n",
      "12        Mexico   Argentina      NaN\n",
      "13         Italy  Germany FR      NaN\n",
      "14           USA      Brazil      NaN\n",
      "15        France      France      NaN\n",
      "16   Korea/Japan      Brazil      NaN\n",
      "17       Germany       Italy      NaN\n",
      "18  South Africa       Spain      NaN\n",
      "19        Brazil     Germany      NaN\n"
     ]
    },
    {
     "ename": "KeyError",
     "evalue": "'AwayTeam'",
     "output_type": "error",
     "traceback": [
      "\u001b[1;31m---------------------------------------------------------------------------\u001b[0m",
      "\u001b[1;31mKeyError\u001b[0m                                  Traceback (most recent call last)",
      "File \u001b[1;32m~\\miniconda3\\lib\\site-packages\\pandas\\core\\indexes\\base.py:3621\u001b[0m, in \u001b[0;36mIndex.get_loc\u001b[1;34m(self, key, method, tolerance)\u001b[0m\n\u001b[0;32m   3620\u001b[0m \u001b[38;5;28;01mtry\u001b[39;00m:\n\u001b[1;32m-> 3621\u001b[0m     \u001b[38;5;28;01mreturn\u001b[39;00m \u001b[38;5;28;43mself\u001b[39;49m\u001b[38;5;241;43m.\u001b[39;49m\u001b[43m_engine\u001b[49m\u001b[38;5;241;43m.\u001b[39;49m\u001b[43mget_loc\u001b[49m\u001b[43m(\u001b[49m\u001b[43mcasted_key\u001b[49m\u001b[43m)\u001b[49m\n\u001b[0;32m   3622\u001b[0m \u001b[38;5;28;01mexcept\u001b[39;00m \u001b[38;5;167;01mKeyError\u001b[39;00m \u001b[38;5;28;01mas\u001b[39;00m err:\n",
      "File \u001b[1;32m~\\miniconda3\\lib\\site-packages\\pandas\\_libs\\index.pyx:136\u001b[0m, in \u001b[0;36mpandas._libs.index.IndexEngine.get_loc\u001b[1;34m()\u001b[0m\n",
      "File \u001b[1;32m~\\miniconda3\\lib\\site-packages\\pandas\\_libs\\index.pyx:163\u001b[0m, in \u001b[0;36mpandas._libs.index.IndexEngine.get_loc\u001b[1;34m()\u001b[0m\n",
      "File \u001b[1;32mpandas\\_libs\\hashtable_class_helper.pxi:5198\u001b[0m, in \u001b[0;36mpandas._libs.hashtable.PyObjectHashTable.get_item\u001b[1;34m()\u001b[0m\n",
      "File \u001b[1;32mpandas\\_libs\\hashtable_class_helper.pxi:5206\u001b[0m, in \u001b[0;36mpandas._libs.hashtable.PyObjectHashTable.get_item\u001b[1;34m()\u001b[0m\n",
      "\u001b[1;31mKeyError\u001b[0m: 'AwayTeam'",
      "\nThe above exception was the direct cause of the following exception:\n",
      "\u001b[1;31mKeyError\u001b[0m                                  Traceback (most recent call last)",
      "Cell \u001b[1;32mIn [213], line 1\u001b[0m\n\u001b[1;32m----> 1\u001b[0m df\u001b[38;5;241m=\u001b[39m\u001b[43mload_and_process\u001b[49m\u001b[43m(\u001b[49m\u001b[38;5;124;43m\"\u001b[39;49m\u001b[38;5;124;43m../data/raw/WorldCups.csv\u001b[39;49m\u001b[38;5;124;43m\"\u001b[39;49m\u001b[43m)\u001b[49m\n\u001b[0;32m      2\u001b[0m \u001b[38;5;66;03m# df=pd.DataFrame({'Country': [\"Uruguay\", \"Italy\", \"France\"], 'Winner': [\"Uruguay\", \"Italy\", \"Italy\"]})\u001b[39;00m\n\u001b[0;32m      3\u001b[0m df\n",
      "Cell \u001b[1;32mIn [210], line 33\u001b[0m, in \u001b[0;36mload_and_process\u001b[1;34m(url_or_path_to_csv_file)\u001b[0m\n\u001b[0;32m     24\u001b[0m df2\u001b[38;5;241m=\u001b[39mdf1\u001b[38;5;241m.\u001b[39mdrop(\n\u001b[0;32m     25\u001b[0m     DeleteList, axis\u001b[38;5;241m=\u001b[39m\u001b[38;5;241m1\u001b[39m\n\u001b[0;32m     26\u001b[0m )\u001b[38;5;241m.\u001b[39massign(\n\u001b[0;32m     27\u001b[0m     \u001b[38;5;66;03m#AwayTeam = df.apply(func, axis=1)\u001b[39;00m\n\u001b[0;32m     28\u001b[0m     AwayTeam \u001b[38;5;241m=\u001b[39m df\u001b[38;5;241m.\u001b[39mapply(func, axis\u001b[38;5;241m=\u001b[39m\u001b[38;5;241m1\u001b[39m)\n\u001b[0;32m     29\u001b[0m )\n\u001b[0;32m     30\u001b[0m \u001b[38;5;28mprint\u001b[39m(df2)\n\u001b[0;32m     32\u001b[0m df3 \u001b[38;5;241m=\u001b[39m df2\u001b[38;5;241m.\u001b[39mdrop(\n\u001b[1;32m---> 33\u001b[0m     df[\u001b[43mdf\u001b[49m\u001b[43m[\u001b[49m\u001b[38;5;124;43m\"\u001b[39;49m\u001b[38;5;124;43mAwayTeam\u001b[39;49m\u001b[38;5;124;43m\"\u001b[39;49m\u001b[43m]\u001b[49m \u001b[38;5;241m==\u001b[39m \u001b[38;5;28;01mFalse\u001b[39;00m]\u001b[38;5;241m.\u001b[39mindex\n\u001b[0;32m     34\u001b[0m )\u001b[38;5;241m.\u001b[39mdrop([\u001b[38;5;124m\"\u001b[39m\u001b[38;5;124mAwayTeam\u001b[39m\u001b[38;5;124m\"\u001b[39m,\u001b[38;5;124m\"\u001b[39m\u001b[38;5;124mCountry\u001b[39m\u001b[38;5;124m\"\u001b[39m], axis\u001b[38;5;241m=\u001b[39m\u001b[38;5;241m1\u001b[39m\n\u001b[0;32m     35\u001b[0m       )\u001b[38;5;241m.\u001b[39mreset_index(\n\u001b[0;32m     36\u001b[0m )\u001b[38;5;241m.\u001b[39mdrop(\u001b[38;5;124m\"\u001b[39m\u001b[38;5;124mindex\u001b[39m\u001b[38;5;124m\"\u001b[39m, axis\u001b[38;5;241m=\u001b[39m\u001b[38;5;241m1\u001b[39m\n\u001b[0;32m     37\u001b[0m       )\n\u001b[0;32m     39\u001b[0m df3\u001b[38;5;241m.\u001b[39mloc[df[\u001b[38;5;124m'\u001b[39m\u001b[38;5;124mWinner\u001b[39m\u001b[38;5;124m'\u001b[39m] \u001b[38;5;241m==\u001b[39m \u001b[38;5;124m\"\u001b[39m\u001b[38;5;124mGermany FR\u001b[39m\u001b[38;5;124m\"\u001b[39m, \u001b[38;5;124m'\u001b[39m\u001b[38;5;124mWinner\u001b[39m\u001b[38;5;124m'\u001b[39m] \u001b[38;5;241m=\u001b[39m \u001b[38;5;124m\"\u001b[39m\u001b[38;5;124mGermany\u001b[39m\u001b[38;5;124m\"\u001b[39m\n\u001b[0;32m     41\u001b[0m \u001b[38;5;66;03m# Make sure to return the latest dataframe\u001b[39;00m\n",
      "File \u001b[1;32m~\\miniconda3\\lib\\site-packages\\pandas\\core\\frame.py:3505\u001b[0m, in \u001b[0;36mDataFrame.__getitem__\u001b[1;34m(self, key)\u001b[0m\n\u001b[0;32m   3503\u001b[0m \u001b[38;5;28;01mif\u001b[39;00m \u001b[38;5;28mself\u001b[39m\u001b[38;5;241m.\u001b[39mcolumns\u001b[38;5;241m.\u001b[39mnlevels \u001b[38;5;241m>\u001b[39m \u001b[38;5;241m1\u001b[39m:\n\u001b[0;32m   3504\u001b[0m     \u001b[38;5;28;01mreturn\u001b[39;00m \u001b[38;5;28mself\u001b[39m\u001b[38;5;241m.\u001b[39m_getitem_multilevel(key)\n\u001b[1;32m-> 3505\u001b[0m indexer \u001b[38;5;241m=\u001b[39m \u001b[38;5;28;43mself\u001b[39;49m\u001b[38;5;241;43m.\u001b[39;49m\u001b[43mcolumns\u001b[49m\u001b[38;5;241;43m.\u001b[39;49m\u001b[43mget_loc\u001b[49m\u001b[43m(\u001b[49m\u001b[43mkey\u001b[49m\u001b[43m)\u001b[49m\n\u001b[0;32m   3506\u001b[0m \u001b[38;5;28;01mif\u001b[39;00m is_integer(indexer):\n\u001b[0;32m   3507\u001b[0m     indexer \u001b[38;5;241m=\u001b[39m [indexer]\n",
      "File \u001b[1;32m~\\miniconda3\\lib\\site-packages\\pandas\\core\\indexes\\base.py:3623\u001b[0m, in \u001b[0;36mIndex.get_loc\u001b[1;34m(self, key, method, tolerance)\u001b[0m\n\u001b[0;32m   3621\u001b[0m     \u001b[38;5;28;01mreturn\u001b[39;00m \u001b[38;5;28mself\u001b[39m\u001b[38;5;241m.\u001b[39m_engine\u001b[38;5;241m.\u001b[39mget_loc(casted_key)\n\u001b[0;32m   3622\u001b[0m \u001b[38;5;28;01mexcept\u001b[39;00m \u001b[38;5;167;01mKeyError\u001b[39;00m \u001b[38;5;28;01mas\u001b[39;00m err:\n\u001b[1;32m-> 3623\u001b[0m     \u001b[38;5;28;01mraise\u001b[39;00m \u001b[38;5;167;01mKeyError\u001b[39;00m(key) \u001b[38;5;28;01mfrom\u001b[39;00m \u001b[38;5;21;01merr\u001b[39;00m\n\u001b[0;32m   3624\u001b[0m \u001b[38;5;28;01mexcept\u001b[39;00m \u001b[38;5;167;01mTypeError\u001b[39;00m:\n\u001b[0;32m   3625\u001b[0m     \u001b[38;5;66;03m# If we have a listlike key, _check_indexing_error will raise\u001b[39;00m\n\u001b[0;32m   3626\u001b[0m     \u001b[38;5;66;03m#  InvalidIndexError. Otherwise we fall through and re-raise\u001b[39;00m\n\u001b[0;32m   3627\u001b[0m     \u001b[38;5;66;03m#  the TypeError.\u001b[39;00m\n\u001b[0;32m   3628\u001b[0m     \u001b[38;5;28mself\u001b[39m\u001b[38;5;241m.\u001b[39m_check_indexing_error(key)\n",
      "\u001b[1;31mKeyError\u001b[0m: 'AwayTeam'"
     ]
    }
   ],
   "source": [
    "df=load_and_process(\"../data/raw/WorldCups.csv\")\n",
    "# df=pd.DataFrame({'Country': [\"Uruguay\", \"Italy\", \"France\"], 'Winner': [\"Uruguay\", \"Italy\", \"Italy\"]})\n",
    "df"
   ]
  },
  {
   "cell_type": "code",
   "execution_count": null,
   "metadata": {},
   "outputs": [],
   "source": [
    "df.to_csv('CleanedWorldCups.csv',index=False)"
   ]
  },
  {
   "cell_type": "markdown",
   "metadata": {},
   "source": [
    "## Mile3 Task3"
   ]
  },
  {
   "cell_type": "code",
   "execution_count": null,
   "metadata": {},
   "outputs": [
    {
     "data": {
      "text/plain": [
       "Winner   \n",
       "Brazil       5\n",
       "Germany      3\n",
       "Italy        3\n",
       "Argentina    1\n",
       "Spain        1\n",
       "Uruguay      1\n",
       "dtype: int64"
      ]
     },
     "execution_count": null,
     "metadata": {},
     "output_type": "execute_result"
    }
   ],
   "source": [
    "df.value_counts(ascending=False)"
   ]
  },
  {
   "cell_type": "markdown",
   "metadata": {},
   "source": [
    "Here we can clearly see that Brazil wins the most cup (the legend is real after all. Guess I learn sth new as someone who hating watching sports)"
   ]
  },
  {
   "cell_type": "code",
   "execution_count": null,
   "metadata": {},
   "outputs": [],
   "source": []
  }
 ],
 "metadata": {
  "kernelspec": {
   "display_name": "Python 3 (ipykernel)",
   "language": "python",
   "name": "python3"
  },
  "language_info": {
   "codemirror_mode": {
    "name": "ipython",
    "version": 3
   },
   "file_extension": ".py",
   "mimetype": "text/x-python",
   "name": "python",
   "nbconvert_exporter": "python",
   "pygments_lexer": "ipython3",
   "version": "3.9.13"
  }
 },
 "nbformat": 4,
 "nbformat_minor": 4
}
